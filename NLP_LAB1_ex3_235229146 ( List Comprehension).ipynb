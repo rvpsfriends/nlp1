{
 "cells": [
  {
   "cell_type": "code",
   "execution_count": 2,
   "metadata": {},
   "outputs": [
    {
     "name": "stdout",
     "output_type": "stream",
     "text": [
      "['C:\\\\Users\\\\1mscdsa46/nltk_data', 'C:\\\\ProgramData\\\\Anaconda3\\\\nltk_data', 'C:\\\\ProgramData\\\\Anaconda3\\\\share\\\\nltk_data', 'C:\\\\ProgramData\\\\Anaconda3\\\\lib\\\\nltk_data', 'C:\\\\Users\\\\1mscdsa46\\\\AppData\\\\Roaming\\\\nltk_data', 'C:\\\\nltk_data', 'D:\\\\nltk_data', 'E:\\\\nltk_data']\n"
     ]
    }
   ],
   "source": [
    "import nltk\n",
    "from nltk import FreqDist\n",
    "from nltk.tokenize import word_tokenize\n",
    "from nltk.corpus import words as nltk_words\n",
    "print(nltk.data.path)\n"
   ]
  },
  {
   "cell_type": "code",
   "execution_count": 19,
   "metadata": {},
   "outputs": [
    {
     "name": "stderr",
     "output_type": "stream",
     "text": [
      "[nltk_data] Downloading package punkt to\n",
      "[nltk_data]     C:\\Users\\1mscdsa46\\AppData\\Roaming\\nltk_data...\n",
      "[nltk_data]   Package punkt is already up-to-date!\n"
     ]
    },
    {
     "data": {
      "text/plain": [
       "True"
      ]
     },
     "execution_count": 19,
     "metadata": {},
     "output_type": "execute_result"
    }
   ],
   "source": [
    "nltk.data.path.append('C:\\\\Users\\\\1mscdsa46/nltk_data')\n",
    "nltk.download('punkt')\n"
   ]
  },
  {
   "cell_type": "code",
   "execution_count": 7,
   "metadata": {},
   "outputs": [
    {
     "name": "stderr",
     "output_type": "stream",
     "text": [
      "[nltk_data] Downloading package words to\n",
      "[nltk_data]     C:\\Users\\1mscdsa46\\AppData\\Roaming\\nltk_data...\n",
      "[nltk_data]   Package words is already up-to-date!\n"
     ]
    },
    {
     "data": {
      "text/plain": [
       "True"
      ]
     },
     "execution_count": 7,
     "metadata": {},
     "output_type": "execute_result"
    }
   ],
   "source": [
    "nltk.data.path.append('C:\\\\Users\\\\1mscdsa46\\\\AppData\\\\Roaming\\\\nltk_data')\n",
    "nltk.download('words')"
   ]
  },
  {
   "cell_type": "code",
   "execution_count": 10,
   "metadata": {},
   "outputs": [
    {
     "name": "stdout",
     "output_type": "stream",
     "text": [
      "['unable', 'unaccountable', 'unanswerable', 'unavoidable', 'uncomfortable', 'undesirable', 'unexceptionable', 'unfavourable', 'unmanageable', 'unobjectionable', 'unpardonable', 'unpersuadable', 'unreasonable', 'unsuitable']\n",
      "28\n",
      "7.470062040109652\n",
      "119\n",
      "2685\n",
      "1956\n",
      "[('were', 'fully'), ('fully', 'answered'), ('answered', 'in'), ('in', 'the'), ('the', 'perfect'), ('perfect', 'happiness'), ('happiness', 'of'), ('of', 'the'), ('the', 'union'), ('union', 'finis')]\n",
      "[(('to', 'be'), 605), (('of', 'the'), 565), (('in', 'the'), 447), (('it', 'was'), 446), (('i', 'am'), 394), (('she', 'had'), 332), (('she', 'was'), 328), (('had', 'been'), 307), (('it', 'is'), 298), (('i', 'have'), 281), (('could', 'not'), 278), (('of', 'her'), 261), (('have', 'been'), 241), (('he', 'had'), 240), (('to', 'the'), 239), (('do', 'not'), 235), (('and', 'the'), 224), (('he', 'was'), 222), (('would', 'be'), 215), (('such', 'a'), 200)]\n",
      "4\n",
      "[('unperceived', 1), ('far', 19), ('far', 19), ('obliged', 4), ('mild', 2), ('much', 98), ('to', 4), ('well', 31), ('well', 31), ('much', 98), ('happily', 3), ('many', 29), ('long', 27), ('perfectly', 2), ('constantly', 1), ('much', 98), ('entirely', 4), ('comfortably', 2), ('very', 86), ('kind', 14), ('avowed', 1), ('dear', 2), ('deservedly', 1), ('little', 20), ('convenient', 1), ('just', 1), ('apparent', 1), ('sorrowful', 1), ('often', 10), ('many', 29), ('well', 31), ('spent', 1), ('far', 19), ('proper', 3), ('pleasantly', 3), ('artlessly', 1), ('superior', 3), ('busy', 2), ('great', 8), ('did', 3), ('much', 98), ('fond', 7), ('very', 86), ('very', 86), ('very', 86), ('plain', 1), ('and', 14), ('forth', 2), ('it', 10), ('kind', 14), ('firmly', 1), ('busy', 2), ('very', 86), ('very', 86), ('very', 86), ('totally', 2), ('genteel', 1), ('very', 86), ('remarkably', 2), ('plainly', 2), ('much', 98), ('i', 27), ('much', 98), ('much', 98), ('much', 98), ('but', 12), ('much', 98), ('brilliant', 1), ('long', 27), ('many', 29), ('great', 8), ('do', 3), ('seldom', 3), ('happy', 4), ('warmly', 3), ('that', 5), ('much', 98), ('charming', 2), ('the', 2), ('little', 20), ('little', 20), ('nervous', 1), ('eager', 1), ('i', 27), ('no', 2), ('interesting', 4), ('good', 12), ('replied', 1), ('indeed', 3), ('prettily', 2), ('well', 31), ('pack', 1), ('but', 12), ('as', 9), ('surprized', 2), ('and', 14), ('she', 12), ('pleased', 5), ('doubtful', 1), ('good', 12), ('well', 31), ('with', 2), ('very', 86), ('completely', 5), ('very', 86), ('much', 98), ('very', 86), ('much', 98), ('anxious', 6), ('much', 98), ('very', 86), ('then', 3), ('and', 14), ('i', 27), ('of', 1), ('early', 3), ('much', 98), ('but', 12), ('to', 4), ('well', 31), ('little', 20), ('far', 19), ('contemptible', 1), ('slightingly', 1), ('by', 3), ('very', 86), ('too', 2), ('easy', 2), ('fast', 4), ('very', 86), ('decidedly', 2), ('much', 98), ('bad', 3), ('loudly', 1), ('and', 14), ('absolutely', 2), ('entirely', 4), ('materially', 1), ('long', 27), ('and', 14), ('very', 86), ('much', 98), ('many', 29), ('much', 98), ('ah', 1), ('hard', 1), ('delightful', 1), ('pointed', 1), ('particular', 2), ('i', 27), ('deceived', 2), ('long', 27), ('equalled', 1), ('but', 12), ('much', 98), ('very', 86), ('evidently', 1), ('palpably', 2), ('immediately', 1), ('sought', 1), ('excellent', 1), ('good', 12), ('as', 9), ('much', 98), ('prettily', 2), ('clever', 2), ('fatal', 1), ('long', 27), ('soon', 9), ('many', 29), ('very', 86), ('much', 98), ('much', 98), ('obliging', 6), ('much', 98), ('good', 12), ('much', 98), ('extreme', 1), ('wonder', 1), ('charming', 2), ('you', 10), ('odd', 3), ('i', 27), ('truly', 6), ('always', 1), ('silly', 1), ('satisfied', 1), ('smiling', 1), ('prosing', 1), ('undistinguishing', 1), ('apt', 1), ('dreadful', 1), ('much', 98), ('much', 98), ('much', 98), ('little', 20), ('near', 4), ('as', 9), ('elton', 1), ('very', 86), ('far', 19), ('respected', 1), ('tenderly', 1), ('often', 10), ('short', 2), ('grieved', 1), ('well', 31), ('often', 10), ('very', 86), ('shocking', 1), ('conceited', 1), ('was', 2), ('before', 1), ('clever', 2), ('pleased', 5), ('much', 98), ('pleased', 5), ('prevalent', 1), ('heavy', 1), ('far', 19), ('bad', 3), ('very', 86), ('remarkably', 2), ('sir', 1), ('long', 27), ('long', 27), ('very', 86), ('swiftly', 1), ('much', 98), ('cold', 3), ('very', 86), ('very', 86), ('great', 8), ('spoken', 1), ('well', 31), ('high', 2), ('but', 12), ('or', 1), ('completely', 5), ('overcharged', 1), ('very', 86), ('pleasant', 1), ('she', 12), ('fenced', 1), ('hospitable', 1), ('fond', 7), ('great', 8), ('anxious', 6), ('interested', 1), ('delighted', 3), ('much', 98), ('little', 20), ('completely', 5), ('happened', 2), ('it', 10), ('anxious', 6), ('much', 98), ('well', 31), ('few', 4), ('little', 20), ('too', 2), ('well', 31), ('sanguine', 1), ('sure', 1), ('you', 10), ('very', 86), ('fond', 7), ('very', 86), ('scrupulous', 1), ('careless', 1), ('rapidly', 1), ('many', 29), ('entirely', 4), ('as', 9), ('that', 5), ('without', 1), ('far', 19), ('frequent', 1), ('much', 98), ('totally', 2), ('sensible', 1), ('much', 98), ('particularly', 3), ('deceived', 2), ('misled', 1), ('easily', 4), ('well', 31), ('blind', 1), ('complaisant', 1), ('full', 2), ('misinterpreted', 1), ('active', 1), ('very', 86), ('particularly', 3), ('well', 31), ('thoroughly', 2), ('pointedly', 1), ('striking', 1), ('sudden', 2), ('industriously', 1), ('partial', 1), ('truly', 6), ('natural', 1), ('inevitable', 1), ('absolutely', 2), ('much', 98), ('he', 4), ('much', 98), ('by', 3), ('to', 4), ('easy', 2), ('equal', 2), ('strong', 4), ('much', 98), ('on', 3), ('good', 12), ('good', 12), ('kind', 14), ('kind', 14), ('very', 86), ('she', 12), ('lately', 1), ('kind', 14), ('it', 10), ('very', 86), ('i', 27), ('kind', 14), ('short', 2), ('well', 31), ('good', 12), ('much', 98), ('beautifully', 1), ('much', 98), ('obliging', 6), ('distinct', 1), ('long', 27), ('surprized', 2), ('very', 86), ('i', 27), ('obliging', 6), ('soon', 9), ('delighted', 3), ('positively', 1), ('impatient', 2), ('much', 98), ('she', 12), ('fond', 7), ('well', 31), ('long', 27), ('considerate', 1), ('far', 19), ('she', 12), ('sudden', 2), ('i', 27), ('i', 27), ('bad', 3), ('light', 1), ('off', 2), ('liberal', 3), ('fond', 7), ('you', 10), ('pleasantly', 3), ('often', 10), ('far', 19), ('very', 86), ('long', 27), ('intimate', 1), ('fond', 7), ('little', 20), ('magnified', 1), ('little', 20), ('naturally', 2), ('cold', 3), ('cautious', 1), ('did', 3), ('openly', 1), ('much', 98), ('attentive', 3), ('confined', 1), ('little', 20), ('my', 1), ('very', 86), ('where', 1), ('completely', 5), ('afraid', 3), ('i', 27), ('very', 86), ('you', 10), ('fortunate', 3), ('pleased', 5), ('she', 12), ('much', 98), ('deep', 2), ('she', 12), ('very', 86), ('kind', 14), ('she', 12), ('there', 3), ('very', 86), ('miserable', 4), ('wish', 1), ('he', 4), ('off', 2), ('i', 27), ('pleasantly', 3), ('kindly', 2), ('but', 12), ('easily', 4), ('little', 20), ('much', 98), ('well', 31), ('many', 29), ('very', 86), ('glorious', 1), ('quick', 1), ('easily', 4), ('sweetly', 1), ('very', 86), ('inseparably', 1), ('very', 86), ('easily', 4), ('interesting', 4), ('soon', 9), ('much', 98), ('deserving', 1), ('much', 98), ('disappointed', 1), ('well', 31), ('if', 1), ('and', 14), ('ended', 1), ('sluggish', 1), ('long', 27), ('high', 2), ('far', 19), ('amiable', 1), ('much', 98), ('much', 98), ('much', 98), ('ill', 2), ('quiet', 1), ('far', 19), ('long', 27), ('many', 29), ('decidedly', 2), ('pale', 2), ('much', 98), ('very', 86), ('very', 86), ('well', 31), ('do', 3), ('much', 98), ('much', 98), ('idolized', 1), ('cried', 1), ('completely', 5), ('long', 27), ('much', 98), ('well', 31), ('much', 98), ('leniently', 1), ('often', 10), ('well', 31), ('many', 29), ('acceptable', 1), ('very', 86), ('properly', 1), ('much', 98), ('much', 98), ('reasonable', 1), ('very', 86), ('but', 12), ('often', 10), ('delightfully', 1), ('particularly', 3), ('obliging', 6), ('rich', 1), ('it', 10), ('long', 27), ('you', 10), ('warm', 1), ('noble', 2), ('many', 29), ('large', 1), ('much', 98), ('lovely', 2), ('handsomely', 1), ('abundant', 1), ('fast', 4), ('few', 4), ('odd', 3), ('very', 86), ('outree', 1), ('as', 9), ('fortunate', 3), ('thoughtful', 1), ('few', 4), ('mad', 1), ('it', 10), ('but', 12), ('very', 86), ('must', 1), ('very', 86), ('warmly', 3), ('well', 31), ('there', 3), ('very', 86), ('effectually', 1), ('strong', 4), ('very', 86), ('great', 8), ('beautiful', 1), ('it', 10), ('glad', 2), ('very', 86), ('very', 86), ('i', 27), ('i', 27), ('well', 31), ('often', 10), ('very', 86), ('very', 86), ('very', 86), ('good', 12), ('very', 86), ('good', 12), ('i', 27), ('liberal', 3), ('nearly', 2), ('pleased', 5), ('many', 29), ('many', 29), ('patty', 1), ('very', 86), ('jane', 2), ('thoroughly', 2), ('our', 1), ('honoured', 1), ('obliged', 4), ('began', 1), ('obliged', 4), ('very', 86), ('kind', 14), ('many', 29), ('very', 86), ('sorry', 2), ('shocked', 3), ('shocked', 3), ('shocked', 3), ('i', 27), ('very', 86), ('much', 98), ('good', 12), ('very', 86), ('would', 1), ('you', 10), ('close', 1), ('far', 19), ('kind', 14), ('much', 98), ('imprudent', 1), ('obliging', 6), ('limited', 1), ('near', 4), ('they', 3), ('many', 29), ('i', 27), ('from', 1), ('very', 86), ('amusing', 1), ('extremely', 7), ('very', 86), ('indifferent', 1), ('indignant', 1), ('said', 1), ('happy', 4), ('was', 2), ('right', 1), ('long', 27), ('and', 14), ('kind', 14), ('sorry', 2), ('great', 8), ('few', 4), ('much', 98), ('much', 98), ('wretched', 1), ('now', 1), ('occupied', 1), ('unhappy', 1), ('well', 31), ('highly', 1), ('generally', 1), ('much', 98), ('as', 9), ('extremely', 7), ('many', 29), ('extremely', 7), ('exactly', 1), ('and', 14), ('emma', 2), ('very', 86), ('and', 14), ('cheerful', 2), ('secluded', 1), ('many', 29), ('extremely', 7), ('regular', 1), ('determined', 1), ('truly', 6), ('motherly', 1), ('very', 86), ('particular', 2), ('often', 10), ('glibly', 1), ('anxious', 6), ('much', 98), ('little', 20), ('that', 5), ('mild', 2), ('calculated', 1), ('thrown', 1), ('palpably', 2), ('very', 86), ('exclusively', 1), ('disgustingly', 1), ('you', 10), ('i', 27), ('very', 86), ('at', 2), ('fast', 4), ('far', 19), ('woodhouse', 1), ('little', 20), ('with', 2), ('needlessly', 1), ('much', 98), ('well', 31), ('seldom', 3), ('seldom', 3), ('does', 1), ('resolutely', 1), ('much', 98), ('much', 98), ('infinitely', 1), ('and', 14), ('near', 4), ('fluently', 1), ('deep', 2), ('you', 10), ('they', 3), ('impatient', 2), ('frank', 2), ('warmly', 3), ('to', 4), ('many', 29), ('i', 27), ('forth', 2), ('it', 10), ('that', 5), ('i', 27), ('much', 98), ('i', 27), ('do', 3), ('many', 29), ('much', 98), ('very', 86), ('soon', 9), ('two', 1), ('very', 86), ('unreasonably', 1), ('very', 86), ('many', 29), ('much', 98), ('briskly', 1), ('truly', 6), ('extremely', 7), ('kind', 14), ('very', 86), ('well', 31), ('afraid', 3), ('often', 10), ('obliged', 4), ('kind', 14), ('afraid', 3), ('extremely', 7), ('good', 12), ('much', 98), ('frank', 2), ('vigorously', 1), ('many', 29), ('young', 1), ('equal', 2), ('near', 4), ('hardened', 1), ('gratified', 1), ('she', 12), ('very', 86), ('that', 5), ('soon', 9), ('much', 98), ('much', 98), ('good', 12), ('much', 98), ('as', 9), ('emma', 2), ('long', 27), ('happy', 4), ('i', 27), ('then', 3), ('i', 27), ('naturally', 2), ('you', 10), ('little', 20), ('you', 10), ('and', 14), ('and', 14), ('superior', 3), ('oh', 1), ('but', 12), ('proper', 3), ('well', 31), ('but', 12), ('many', 29), ('at', 2), ('jane', 2), ('much', 98), ('placed', 1), ('lain', 1), ('arranged', 1), ('many', 29), ('full', 2), ('very', 86), ('very', 86), ('on', 3), ('on', 3), ('she', 12), ('well', 31), ('very', 86), ('it', 10), ('for', 2), ('many', 29), ('well', 31), ('fast', 4), ('long', 27), ('interesting', 4), ('favourable', 1), ('much', 98), ('soon', 9), ('kind', 14), ('soon', 9), ('soon', 9), ('late', 1), ('miserable', 4), ('much', 98), ('much', 98), ('silent', 1), ('dull', 1), ('but', 12), ('much', 98), ('indeed', 3), ('did', 3), ('soon', 9), ('long', 27), ('little', 20), ('many', 29), ('unfeeling', 2), ('insolent', 1), ('very', 86), ('irksome', 1), ('agitated', 1), ('brutal', 1), ('cruel', 1), ('depressed', 1), ('unfeeling', 2), ('remiss', 1), ('no', 2), ('justly', 1), ('long', 27), ('happened', 2), ('early', 3), ('very', 86), ('she', 12), ('upon', 1), ('liberal', 3), ('much', 98), ('noble', 2), ('then', 3), ('astonished', 1), ('will', 1), ('when', 1), ('little', 20), ('attentive', 3), ('by', 3), ('little', 20), ('simple', 1), ('dignified', 1), ('suddenly', 1), ('comfortably', 2), ('long', 27), ('many', 29), ('much', 98), ('herself', 1), ('plainly', 2), ('much', 98), ('peremptorily', 1), ('little', 20), ('little', 20), ('uneasy', 1), ('ill', 2), ('much', 98), ('far', 19), ('there', 3), ('wonderful', 1), ('disengaged', 1), ('expressly', 1), ('unlike', 1), ('long', 27), ('very', 86), ('much', 98), ('angry', 1), ('very', 86), ('anxiously', 2), ('she', 12), ('strange', 1), ('odd', 3), ('extremely', 7), ('stoutly', 1), ('mistake', 1), ('mistaken', 1), ('i', 27), ('fortunate', 3), ('much', 98), ('dreadfully', 1), ('voluntarily', 1), ('often', 10), ('very', 86), ('i', 27), ('very', 86), ('satisfactory', 1), ('dear', 2), ('and', 14), ('interesting', 4), ('they', 3), ('truly', 6), ('disinterested', 1), ('much', 98), ('much', 98), ('little', 20), ('much', 98), ('long', 27), ('many', 29), ('it', 10), ('anxious', 6), ('anxious', 6), ('foolishly', 1), ('unpardonably', 1), ('much', 98), ('he', 4), ('ingeniously', 1), ('early', 3), ('what', 1), ('obliging', 6), ('much', 98), ('like', 1), ('much', 98), ('much', 98), ('cordially', 1), ('anxiously', 2), ('very', 86), ('nearly', 2), ('a', 1), ('long', 27), ('long', 27), ('essential', 1), ('much', 98), ('much', 98), ('designedly', 1), ('hasty', 1), ('i', 27), ('richly', 1), ('as', 9), ('grateful', 1), ('much', 98), ('happy', 4), ('well', 31), ('much', 98), ('great', 8), ('but', 12), ('very', 86), ('well', 31), ('much', 98), ('long', 27), ('tenaciously', 1), ('kind', 14), ('feeling', 1), ('truly', 6), ('fond', 7), ('happily', 3), ('well', 31), ('lovely', 2), ('engaging', 1), ('entirely', 4), ('it', 10), ('far', 19), ('quite', 1), ('very', 86), ('long', 27), ('engaged', 1), ('many', 29), ('happily', 3), ('long', 27), ('hot', 1), ('much', 98), ('very', 86), ('very', 86), ('perfectly', 2), ('delighted', 3), ('cold', 3), ('far', 19), ('well', 31), ('much', 98), ('many', 29), ('very', 86), ('the', 2), ('far', 19), ('far', 19), ('far', 19), ('i', 27), ('much', 98), ('and', 14), ('useful', 1), ('ready', 2), ('glad', 2), ('cheerful', 2), ('attentive', 3), ('attached', 1), ('very', 86), ('than', 1), ('proper', 3), ('peculiarly', 2), ('singularly', 1), ('as', 9), ('taken', 1), ('i', 27), ('indeed', 3), ('many', 29), ('strong', 4), ('strong', 4), ('recently', 1), ('fresh', 1), ('great', 8), ('he', 4), ('for', 2), ('superior', 3), ('hateful', 1), ('very', 86), ('peculiarly', 2), ('pale', 2), ('heartily', 1), ('miserable', 4), ('much', 98), ('kindly', 2), ('ready', 2), ('steady', 1), ('complete', 1), ('miserable', 4), ('much', 98)]\n",
      "[('ceremony', 'were', 'fully'), ('were', 'fully', 'answered'), ('fully', 'answered', 'in'), ('answered', 'in', 'the'), ('in', 'the', 'perfect'), ('the', 'perfect', 'happiness'), ('perfect', 'happiness', 'of'), ('happiness', 'of', 'the'), ('of', 'the', 'union'), ('the', 'union', 'finis')]\n",
      "[(('i', 'do', 'not'), 135), (('i', 'am', 'sure'), 107), (('she', 'could', 'not'), 72), (('i', 'can', 'not'), 66), (('a', 'great', 'deal'), 64), (('it', 'would', 'be'), 63), (('would', 'have', 'been'), 59), (('it', 'was', 'not'), 55), (('do', 'not', 'know'), 54), (('it', 'was', 'a'), 53)]\n",
      "0\n"
     ]
    }
   ],
   "source": [
    "\n",
    "\n",
    "# Read the text file\n",
    "with open(\"austen-emma.txt\", \"r\", encoding=\"utf-8\") as file:\n",
    "    emma_text = file.read()\n",
    "\n",
    "# Tokenize the text into words\n",
    "etoks = word_tokenize(emma_text.lower())\n",
    "\n",
    "# Filter out non-alphabetic words\n",
    "etoks = [word for word in etoks if word.isalpha()]\n",
    "\n",
    "# Create a list of word types and word frequency distribution\n",
    "etypes = sorted(set(etoks))\n",
    "efreq = FreqDist(etoks)\n",
    "\n",
    "# Filter ENABLE English words\n",
    "wlist = set(nltk_words.words())\n",
    "uncommon_words = [word for word in etypes if word not in wlist]\n",
    "\n",
    "# Function to get bigrams and trigrams\n",
    "def get_ngrams(text, n):\n",
    "    return list(nltk.ngrams(text, n))\n",
    "\n",
    "# Create bigrams and trigrams\n",
    "e2grams = get_ngrams(etoks, 2)\n",
    "e2gramfd = FreqDist(e2grams)\n",
    "e3grams = get_ngrams(etoks, 3)\n",
    "e3gramfd = FreqDist(e3grams)\n",
    "# Question 1: Words with prefix 'un' and suffix 'able'\n",
    "un_able_words = [word for word in etypes if word.startswith('un') and word.endswith('able')]\n",
    "\n",
    "# Question 2: Emma word types 15 characters or longer\n",
    "long_words_count = len([word for word in etypes if len(word) >= 15 and '-' not in word])\n",
    "\n",
    "# Question 3: Average word length\n",
    "avg_word_length = sum(len(word) for word in etypes) / len(etypes)\n",
    "\n",
    "# Question 4: Word frequency counts\n",
    "freq_200_or_more = len([word for word, freq in efreq.items() if freq >= 200])\n",
    "single_occurrence_words = len([word for word, freq in efreq.items() if freq == 1])\n",
    "\n",
    "# Question 5: Emma words not in wlist\n",
    "emma_words_not_in_wlist = len(uncommon_words)\n",
    "\n",
    "# Question 6: Last 10 bigrams\n",
    "last_10_bigrams = e2grams[-10:]\n",
    "\n",
    "# Question 7: Top 20 most frequent bigrams\n",
    "top_20_bigrams = e2gramfd.most_common(20)\n",
    "\n",
    "# Question 8: Frequency of 'so happy' bigram\n",
    "so_happy_freq = e2gramfd[('so', 'happy')]\n",
    "\n",
    "# Question 9: Words following 'so' and their frequency counts\n",
    "words_following_so = [(word, e2gramfd[('so', word)]) for (first, word) in e2grams if first == 'so']\n",
    "\n",
    "# Question 10: Last 10 trigrams\n",
    "last_10_trigrams = e3grams[-10:]\n",
    "\n",
    "# Question 11: Top 10 most frequent trigrams\n",
    "top_10_trigrams = e3gramfd.most_common(10)\n",
    "\n",
    "# Question 12: Frequency of 'so happy to' trigram\n",
    "so_happy_to_freq = e3gramfd[('so', 'happy', 'to')]\n",
    "\n",
    "# Question 1: Words with prefix 'un' and suffix 'able'\n",
    "print(\"Prefix words:\",un_able_words)\n",
    "\n",
    "# Question 2: Emma word types 15 characters or longer\n",
    "print(\"15 long characters:\",long_words_count)\n",
    "\n",
    "# Question 3: Average word length\n",
    "print(\"Avverage word length:\",avg_word_length)\n",
    "\n",
    "# Question 4: Word frequency counts\n",
    "print(\"Word frequency:\",freq_200_or_more)\n",
    "print(\"COunt:\",single_occurrence_words)\n",
    "\n",
    "# Question 5: Emma words not in wlist\n",
    "print(\"Emma not in list:\",emma_words_not_in_wlist)\n",
    "\n",
    "# Question 6: Last 10 bigrams\n",
    "print(\"Last 10 bigrams:\",last_10_bigrams)\n",
    "\n",
    "# Question 7: Top 20 most frequent bigrams\n",
    "print(\"top 20 bigrgams:\",top_20_bigrams)\n",
    "\n",
    "# Question 8: Frequency of 'so happy' bigram\n",
    "print(\"frequencyso_happy_freq)\n",
    "\n",
    "# Question 9: Words following 'so' and their frequency counts\n",
    "print(words_following_so)\n",
    "\n",
    "# Question 10: Last 10 trigrams\n",
    "print(last_10_trigrams)\n",
    "\n",
    "# Question 11: Top 10 most frequent trigrams\n",
    "print(top_10_trigrams)\n",
    "\n",
    "# Question 12: Frequency of 'so happy to' trigram\n",
    "print(so_happy_to_freq)\n",
    "\n"
   ]
  },
  {
   "cell_type": "code",
   "execution_count": null,
   "metadata": {},
   "outputs": [],
   "source": []
  }
 ],
 "metadata": {
  "kernelspec": {
   "display_name": "Python 3 (ipykernel)",
   "language": "python",
   "name": "python3"
  },
  "language_info": {
   "codemirror_mode": {
    "name": "ipython",
    "version": 3
   },
   "file_extension": ".py",
   "mimetype": "text/x-python",
   "name": "python",
   "nbconvert_exporter": "python",
   "pygments_lexer": "ipython3",
   "version": "3.11.3"
  }
 },
 "nbformat": 4,
 "nbformat_minor": 2
}
