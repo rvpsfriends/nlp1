{
 "cells": [
  {
   "cell_type": "code",
   "execution_count": 4,
   "id": "4975b701",
   "metadata": {},
   "outputs": [
    {
     "name": "stderr",
     "output_type": "stream",
     "text": [
      "[nltk_data] Downloading package punkt to\n",
      "[nltk_data]     C:\\Users\\1mscds46\\AppData\\Roaming\\nltk_data...\n",
      "[nltk_data]   Unzipping tokenizers\\punkt.zip.\n"
     ]
    },
    {
     "data": {
      "text/plain": [
       "True"
      ]
     },
     "execution_count": 4,
     "metadata": {},
     "output_type": "execute_result"
    }
   ],
   "source": [
    "import nltk\n",
    "nltk.download('punkt')"
   ]
  },
  {
   "cell_type": "code",
   "execution_count": 5,
   "id": "41bcd6dc",
   "metadata": {},
   "outputs": [
    {
     "name": "stdout",
     "output_type": "stream",
     "text": [
      "Most similar documents to the query:\n",
      "Document 0: Similarity = 0.6705 - the house had a tiny little mouse\n",
      "Document 1: Similarity = 0.5141 - the cat saw the mouse\n"
     ]
    },
    {
     "name": "stderr",
     "output_type": "stream",
     "text": [
      "C:\\Users\\1mscds46\\AppData\\Local\\Temp\\ipykernel_1768\\609885283.py:24: DeprecationWarning: Call to deprecated `docvecs` (The `docvecs` property has been renamed `dv`.).\n",
      "  similar_docs = model.docvecs.most_similar([inferred_vector], topn=2)\n"
     ]
    }
   ],
   "source": [
    "#Question1. Train the following documents usingDoc2Vec model\n",
    "from gensim.models.doc2vec import Doc2Vec, TaggedDocument\n",
    "from nltk.tokenize import word_tokenize\n",
    "\n",
    "# Preprocess the documents\n",
    "docs = [\"the house had a tiny little mouse\",\n",
    "        \"the cat saw the mouse\",\n",
    "        \"the mouse ran away from the house\",\n",
    "        \"the cat finally ate the mouse\",\n",
    "        \"the end of the mouse story\"]\n",
    "\n",
    "tagged_data = [TaggedDocument(words=word_tokenize(doc.lower()), tags=[str(i)]) for i, doc in enumerate(docs)]\n",
    "\n",
    "# Train the Doc2Vec model\n",
    "model = Doc2Vec(vector_size=20, window=2, min_count=1, workers=4, epochs=100)\n",
    "model.build_vocab(tagged_data)\n",
    "model.train(tagged_data, total_examples=model.corpus_count, epochs=model.epochs)\n",
    "\n",
    "# Infer the vector for the query document\n",
    "query_doc = \"cat stayed in the house\"\n",
    "inferred_vector = model.infer_vector(word_tokenize(query_doc.lower()))\n",
    "\n",
    "# Find the most similar documents to the inferred vector\n",
    "similar_docs = model.docvecs.most_similar([inferred_vector], topn=2)\n",
    "\n",
    "# Display the results\n",
    "print(\"Most similar documents to the query:\")\n",
    "for index, similarity in similar_docs:\n",
    "    print(f\"Document {index}: Similarity = {similarity:.4f} - {docs[int(index)]}\")"
   ]
  }
 ],
 "metadata": {
  "kernelspec": {
   "display_name": "Python 3 (ipykernel)",
   "language": "python",
   "name": "python3"
  },
  "language_info": {
   "codemirror_mode": {
    "name": "ipython",
    "version": 3
   },
   "file_extension": ".py",
   "mimetype": "text/x-python",
   "name": "python",
   "nbconvert_exporter": "python",
   "pygments_lexer": "ipython3",
   "version": "3.9.12"
  }
 },
 "nbformat": 4,
 "nbformat_minor": 5
}
