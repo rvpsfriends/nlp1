{
 "cells": [
  {
   "cell_type": "code",
   "execution_count": 6,
   "metadata": {},
   "outputs": [
    {
     "name": "stdout",
     "output_type": "stream",
     "text": [
      "TF-IDF Values:\n",
      "                 ate      away       cat       end   finally     house  \\\n",
      "Document 1  0.000000  0.000000  0.000000  0.000000  0.000000  0.475575   \n",
      "Document 2  0.000000  0.000000  0.588732  0.000000  0.000000  0.000000   \n",
      "Document 3  0.000000  0.589463  0.000000  0.000000  0.000000  0.475575   \n",
      "Document 4  0.589463  0.000000  0.475575  0.000000  0.589463  0.000000   \n",
      "Document 5  0.000000  0.000000  0.000000  0.670092  0.000000  0.000000   \n",
      "\n",
      "              little     mouse       ran       saw     story      tiny  \n",
      "Document 1  0.589463  0.280882  0.000000  0.000000  0.000000  0.589463  \n",
      "Document 2  0.000000  0.347715  0.000000  0.729718  0.000000  0.000000  \n",
      "Document 3  0.000000  0.280882  0.589463  0.000000  0.000000  0.000000  \n",
      "Document 4  0.000000  0.280882  0.000000  0.000000  0.000000  0.000000  \n",
      "Document 5  0.000000  0.319302  0.000000  0.000000  0.670092  0.000000  \n"
     ]
    }
   ],
   "source": [
    "#Question-1. Consider the following documents and compute TFIDF values\n",
    "\n",
    "from sklearn.feature_extraction.text import TfidfVectorizer\n",
    "\n",
    "# List of documents\n",
    "docs = [\n",
    "    \"the house had a tiny little mouse\",\n",
    "    \"the cat saw the mouse\",\n",
    "    \"the mouse ran away from the house\",\n",
    "    \"the cat finally ate the mouse\",\n",
    "    \"the end of the mouse story\"\n",
    "]\n",
    "\n",
    "# Create a TF-IDF vectorizer\n",
    "tfidf_vectorizer = TfidfVectorizer(stop_words='english')\n",
    "\n",
    "# Fit and transform your documents to obtain TF-IDF feature vectors\n",
    "tfidf_matrix = tfidf_vectorizer.fit_transform(docs)\n",
    "\n",
    "# Get the feature names (words)\n",
    "\n",
    "try:\n",
    "    feature_names = tfidf_vectorizer.get_feature_names_out()\n",
    "except AttributeError:\n",
    "    feature_names = tfidf_vectorizer.get_feature_names()\n",
    "\n",
    "\n",
    "# Create a DataFrame to display the TF-IDF values\n",
    "import pandas as pd\n",
    "\n",
    "tfidf_df = pd.DataFrame(data=tfidf_matrix.toarray(), columns=feature_names)\n",
    "tfidf_df.index = [\"Document {}\".format(i + 1) for i in range(len(docs))]\n",
    "\n",
    "# Display the TF-IDF values\n",
    "print(\"TF-IDF Values:\")\n",
    "print(tfidf_df)\n"
   ]
  },
  {
   "cell_type": "code",
   "execution_count": 1,
   "metadata": {},
   "outputs": [
    {
     "name": "stdout",
     "output_type": "stream",
     "text": [
      "Cosine Similarity Scores:\n",
      "Document 1: 0.3050665531435638\n",
      "Document 2: 0.09766691363237201\n",
      "Document 3: 0.9999999999999999\n",
      "Document 4: 0.07889487560344138\n",
      "Document 5: 0.08968637798033531\n",
      "\n",
      "The most similar document is Document 3 with a cosine similarity score of 0.9999999999999999\n"
     ]
    }
   ],
   "source": [
    "#Question-2. Compute cosine similarity between 3rd document (“the mouse ran away from the house”) with all other documents. Which is the most similar document?.\n",
    "\n",
    "from sklearn.feature_extraction.text import TfidfVectorizer\n",
    "from sklearn.metrics.pairwise import linear_kernel\n",
    "\n",
    "# List of documents\n",
    "docs = [\n",
    "    \"the house had a tiny little mouse\",\n",
    "    \"the cat saw the mouse\",\n",
    "    \"the mouse ran away from the house\",\n",
    "    \"the cat finally ate the mouse\",\n",
    "    \"the end of the mouse story\"\n",
    "]\n",
    "\n",
    "# Create a TF-IDF vectorizer\n",
    "tfidf_vectorizer = TfidfVectorizer(stop_words='english')\n",
    "\n",
    "# Fit and transform your documents to obtain feature vectors\n",
    "features = tfidf_vectorizer.fit_transform(docs)\n",
    "\n",
    "# Cosine similarity between the 3rd document and all other documents\n",
    "query = \"the mouse ran away from the house\"\n",
    "qfeature = tfidf_vectorizer.transform([query])\n",
    "scores = linear_kernel(qfeature, features).flatten()\n",
    "\n",
    "# Print the cosine similarity scores\n",
    "print(\"Cosine Similarity Scores:\")\n",
    "for i, score in enumerate(scores):\n",
    "    print(f\"Document {i + 1}: {score}\")\n",
    "\n",
    "# Find the most similar document\n",
    "most_similar_doc_index = scores.argmax()\n",
    "print(f\"\\nThe most similar document is Document {most_similar_doc_index + 1} with a cosine similarity score of {scores[most_similar_doc_index]}\")\n",
    "\n",
    "\n"
   ]
  },
  {
   "cell_type": "code",
   "execution_count": 7,
   "metadata": {},
   "outputs": [
    {
     "name": "stdout",
     "output_type": "stream",
     "text": [
      "Top-2 Similar Documents:\n",
      "1. Document 1 (Cosine Similarity: 0.3050665531435638)\n",
      "2. Document 2 (Cosine Similarity: 0.09766691363237201)\n"
     ]
    }
   ],
   "source": [
    "#Question-3. Find Top-2 similar documents for the 3rd document based on Cosine similarity values.\n",
    "\n",
    "from sklearn.metrics.pairwise import linear_kernel\n",
    "\n",
    "# Cosine similarity between the 3rd document and all other documents\n",
    "query_index = 2  # Index of the 3rd document\n",
    "query_vector = tfidf_matrix[query_index:query_index + 1]  # Extract the TF-IDF vector for the 3rd document\n",
    "\n",
    "cosine_similarities = linear_kernel(query_vector, tfidf_matrix).flatten()\n",
    "\n",
    "# Exclude the similarity score with the 3rd document (it will be 1.0)\n",
    "cosine_similarities[query_index] = -1.0\n",
    "\n",
    "# Find the indices of the top-2 similar documents\n",
    "top_indices = cosine_similarities.argsort()[-2:][::-1]\n",
    "\n",
    "# Display the top-2 similar documents and their cosine similarity scores\n",
    "print(\"Top-2 Similar Documents:\")\n",
    "for i, index in enumerate(top_indices, 1):\n",
    "    print(f\"{i}. Document {index + 1} (Cosine Similarity: {cosine_similarities[index]})\")\n"
   ]
  },
  {
   "cell_type": "code",
   "execution_count": null,
   "metadata": {},
   "outputs": [],
   "source": []
  }
 ],
 "metadata": {
  "kernelspec": {
   "display_name": "Python 3",
   "language": "python",
   "name": "python3"
  },
  "language_info": {
   "codemirror_mode": {
    "name": "ipython",
    "version": 3
   },
   "file_extension": ".py",
   "mimetype": "text/x-python",
   "name": "python",
   "nbconvert_exporter": "python",
   "pygments_lexer": "ipython3",
   "version": "3.7.1"
  }
 },
 "nbformat": 4,
 "nbformat_minor": 2
}
