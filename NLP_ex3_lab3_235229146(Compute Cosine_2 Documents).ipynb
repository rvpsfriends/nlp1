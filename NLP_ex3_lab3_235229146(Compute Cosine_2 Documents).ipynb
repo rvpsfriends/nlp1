{
 "cells": [
  {
   "cell_type": "code",
   "execution_count": 4,
   "metadata": {},
   "outputs": [
    {
     "name": "stdout",
     "output_type": "stream",
     "text": [
      "Cosine score between 1st and 2nd doc: [[0.64692568]]\n",
      "Cosine scores between 1st and all other docs: [[1.         0.64692568 0.30777187 1.        ]]\n",
      "Cosine Similarity for the new doc: [[0.38408524 0.28108867 0.26710379 0.38408524]]\n"
     ]
    }
   ],
   "source": [
    "from sklearn.feature_extraction.text import TfidfVectorizer\n",
    "from sklearn.metrics.pairwise import linear_kernel\n",
    "\n",
    "# Example documents\n",
    "documents = [\n",
    "    \"This is the first document.\",\n",
    "    \"This document is the second document.\",\n",
    "    \"And this is the third one.\",\n",
    "    \"Is this the first document?\",\n",
    "]\n",
    "\n",
    "# TF-IDF Vectorization\n",
    "tfidf_vectorizer = TfidfVectorizer()\n",
    "features = tfidf_vectorizer.fit_transform(documents)\n",
    "\n",
    "# cosine score between 1st and 2nd doc\n",
    "doc1 = features[0:1]\n",
    "doc2 = features[1:2]\n",
    "score = linear_kernel(doc1, doc2)\n",
    "print(\"Cosine score between 1st and 2nd doc:\", score)\n",
    "\n",
    "# cosine score between 1st and all other docs\n",
    "scores = linear_kernel(doc1, features)\n",
    "print(\"Cosine scores between 1st and all other docs:\", scores)\n",
    "\n",
    "# Cosine Similarity for a new doc\n",
    "query = \"I like this good movie\"\n",
    "qfeature = tfidf_vectorizer.transform([query])\n",
    "scores_2 = linear_kernel(qfeature, features)\n",
    "print(\"Cosine Similarity for the new doc:\", scores_2)\n"
   ]
  },
  {
   "cell_type": "code",
   "execution_count": null,
   "metadata": {},
   "outputs": [],
   "source": []
  }
 ],
 "metadata": {
  "kernelspec": {
   "display_name": "Python 3",
   "language": "python",
   "name": "python3"
  },
  "language_info": {
   "codemirror_mode": {
    "name": "ipython",
    "version": 3
   },
   "file_extension": ".py",
   "mimetype": "text/x-python",
   "name": "python",
   "nbconvert_exporter": "python",
   "pygments_lexer": "ipython3",
   "version": "3.7.1"
  }
 },
 "nbformat": 4,
 "nbformat_minor": 2
}
