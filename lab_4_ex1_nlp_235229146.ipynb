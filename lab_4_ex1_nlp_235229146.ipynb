{
 "cells": [
  {
   "cell_type": "code",
   "execution_count": 2,
   "metadata": {},
   "outputs": [
    {
     "name": "stderr",
     "output_type": "stream",
     "text": [
      "[nltk_data] Downloading package punkt to\n",
      "[nltk_data]     C:\\Users\\1mscds46\\AppData\\Roaming\\nltk_data...\n",
      "[nltk_data]   Unzipping tokenizers\\punkt.zip.\n"
     ]
    },
    {
     "data": {
      "text/plain": [
       "True"
      ]
     },
     "execution_count": 2,
     "metadata": {},
     "output_type": "execute_result"
    }
   ],
   "source": [
    "import nltk\n",
    "nltk.download('punkt')"
   ]
  },
  {
   "cell_type": "code",
   "execution_count": 3,
   "metadata": {},
   "outputs": [
    {
     "name": "stdout",
     "output_type": "stream",
     "text": [
      "Model Saved\n",
      "V1_infer [-0.01755543 -0.0232402  -0.01038956  0.01963327 -0.01921895  0.01972857\n",
      " -0.01844493 -0.00241443  0.02123899 -0.01697157 -0.02462202  0.02474383\n",
      "  0.01386506  0.02469273  0.00112726 -0.01305866 -0.01993396 -0.00516038\n",
      "  0.00690041 -0.01621956]\n",
      "[('2', 0.3225879967212677), ('0', 0.2904273271560669), ('3', 0.22423313558101654)]\n",
      "[-0.01951095  0.01334204 -0.02924857  0.01347412  0.03016925 -0.04165563\n",
      " -0.04264015 -0.05076316  0.02415931 -0.04680936  0.0294119   0.0347948\n",
      " -0.03395152 -0.02405545 -0.00715238  0.00799955 -0.00750972 -0.04314583\n",
      " -0.01919778  0.0087441 ]\n"
     ]
    },
    {
     "name": "stderr",
     "output_type": "stream",
     "text": [
      "C:\\ProgramData\\Anaconda3\\lib\\site-packages\\ipykernel_launcher.py:33: DeprecationWarning: Call to deprecated `docvecs` (The `docvecs` property has been renamed `dv`.).\n",
      "C:\\ProgramData\\Anaconda3\\lib\\site-packages\\ipykernel_launcher.py:39: DeprecationWarning: Call to deprecated `docvecs` (The `docvecs` property has been renamed `dv`.).\n"
     ]
    }
   ],
   "source": [
    "from gensim.models.doc2vec import Doc2Vec, TaggedDocument\n",
    "from nltk.tokenize import word_tokenize\n",
    "from sklearn import utils\n",
    "\n",
    "data = [\"I love machine learning. Its awesome.\",\n",
    "\n",
    "        \"I love coding in python\",\n",
    "\n",
    "        \"I love building chatbots\",\n",
    "\n",
    "        \"they chat amagingly well\"]\n",
    "tagged_data =[TaggedDocument(words=word_tokenize(d.lower()),tags=[str(i)]) for i, d in enumerate(data)]\n",
    "# model parameters\n",
    "vec_size = 20\n",
    "alpha = 0.025\n",
    "# create model\n",
    "model =Doc2Vec(vector_size=vec_size,alpha=alpha,min_alpha=0.00025,min_count=1,dm =1)\n",
    "# build vocabulary\n",
    "model.build_vocab(tagged_data)\n",
    "# shuffle data\n",
    "tagged_data  = utils.shuffle(tagged_data)\n",
    "# train Doc2Vec model\n",
    "model.train(tagged_data,total_examples=model.corpus_count,epochs=30)\n",
    "model.save(\"d2v.model\")\n",
    "print(\"Model Saved\")\n",
    "from gensim.models.doc2vec import Doc2Vec\n",
    "model= Doc2Vec.load(\"d2v.model\")\n",
    "#to find the vector of a document which is not in training data\n",
    "test_data =word_tokenize(\"I love chatbots\".lower())\n",
    "v1 =model.infer_vector(test_data)\n",
    "print(\"V1_infer\",v1)\n",
    "# to find most similar doc using tags\n",
    "similar_doc = model.docvecs.most_similar('1')\n",
    "print(similar_doc)\n",
    " \n",
    "# to find vector of doc in training data using tags or\n",
    "# in other words, printing the vector of document at index 1 in training data\n",
    " \n",
    "print(model.docvecs['1'])"
   ]
  },
  {
   "cell_type": "code",
   "execution_count": null,
   "metadata": {},
   "outputs": [],
   "source": []
  }
 ],
 "metadata": {
  "kernelspec": {
   "display_name": "Python 3",
   "language": "python",
   "name": "python3"
  },
  "language_info": {
   "codemirror_mode": {
    "name": "ipython",
    "version": 3
   },
   "file_extension": ".py",
   "mimetype": "text/x-python",
   "name": "python",
   "nbconvert_exporter": "python",
   "pygments_lexer": "ipython3",
   "version": "3.7.1"
  }
 },
 "nbformat": 4,
 "nbformat_minor": 2
}
