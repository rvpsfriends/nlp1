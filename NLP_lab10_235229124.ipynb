{
 "cells": [
  {
   "cell_type": "code",
   "execution_count": null,
   "id": "3451dc91",
   "metadata": {},
   "outputs": [],
   "source": [
    "# Exercise 1"
   ]
  },
  {
   "cell_type": "code",
   "execution_count": 1,
   "id": "f47c50c9",
   "metadata": {},
   "outputs": [],
   "source": [
    "Sentence1=\"Rajkumar said on Monday that WASHINGTON -- In the wake of a string of abuses by New York police officers in the 1990s,Loretta E. Lynch, the top federal prosecutor in Brooklyn,spoke forcefully about the pain of a broken trust that African-Americans felt and said the responsibility for repairing generations of miscommunication and mistrust fell to law enforcement\""
   ]
  },
  {
   "cell_type": "code",
   "execution_count": 2,
   "id": "830f57cb",
   "metadata": {},
   "outputs": [
    {
     "name": "stderr",
     "output_type": "stream",
     "text": [
      "[nltk_data] Downloading package averaged_perceptron_tagger to\n",
      "[nltk_data]     C:\\Users\\1mscds24\\AppData\\Roaming\\nltk_data...\n",
      "[nltk_data]   Package averaged_perceptron_tagger is already up-to-\n",
      "[nltk_data]       date!\n"
     ]
    },
    {
     "data": {
      "text/plain": [
       "True"
      ]
     },
     "execution_count": 2,
     "metadata": {},
     "output_type": "execute_result"
    }
   ],
   "source": [
    "import nltk\n",
    "from nltk.tokenize import word_tokenize\n",
    "from nltk.tag import pos_tag\n",
    "from nltk.chunk import ne_chunk\n",
    "nltk.download('averaged_perceptron_tagger')"
   ]
  },
  {
   "cell_type": "code",
   "execution_count": 4,
   "id": "fef7b94f",
   "metadata": {},
   "outputs": [
    {
     "name": "stderr",
     "output_type": "stream",
     "text": [
      "[nltk_data] Downloading package maxent_ne_chunker to\n",
      "[nltk_data]     C:\\Users\\1mscds24\\AppData\\Roaming\\nltk_data...\n",
      "[nltk_data]   Unzipping chunkers\\maxent_ne_chunker.zip.\n"
     ]
    },
    {
     "data": {
      "text/plain": [
       "True"
      ]
     },
     "execution_count": 4,
     "metadata": {},
     "output_type": "execute_result"
    }
   ],
   "source": [
    "import nltk\n",
    "nltk.download('maxent_ne_chunker')"
   ]
  },
  {
   "cell_type": "code",
   "execution_count": 6,
   "id": "cc057594",
   "metadata": {},
   "outputs": [
    {
     "name": "stderr",
     "output_type": "stream",
     "text": [
      "[nltk_data] Downloading package words to\n",
      "[nltk_data]     C:\\Users\\1mscds24\\AppData\\Roaming\\nltk_data...\n",
      "[nltk_data]   Unzipping corpora\\words.zip.\n"
     ]
    },
    {
     "data": {
      "text/plain": [
       "True"
      ]
     },
     "execution_count": 6,
     "metadata": {},
     "output_type": "execute_result"
    }
   ],
   "source": [
    "import nltk\n",
    "nltk.download('words')"
   ]
  },
  {
   "cell_type": "code",
   "execution_count": 7,
   "id": "5b0f7f52",
   "metadata": {},
   "outputs": [
    {
     "name": "stdout",
     "output_type": "stream",
     "text": [
      "[Tree('PERSON', [('Rajkumar', 'NNP')])]\n"
     ]
    }
   ],
   "source": [
    "tokens = word_tokenize(Sentence1)\n",
    "tags = pos_tag(tokens)\n",
    "ne_tree = ne_chunk(tags)\n",
    "print(ne_tree[:1])"
   ]
  },
  {
   "cell_type": "code",
   "execution_count": 8,
   "id": "bd7fb2c5",
   "metadata": {},
   "outputs": [],
   "source": [
    "ne_tree=ne_chunk(pos_tag(word_tokenize(Sentence1)))"
   ]
  },
  {
   "cell_type": "code",
   "execution_count": 9,
   "id": "fad10fcc",
   "metadata": {},
   "outputs": [
    {
     "name": "stdout",
     "output_type": "stream",
     "text": [
      "(PERSON Rajkumar/NNP)\n",
      "('said', 'VBD')\n",
      "('on', 'IN')\n",
      "('Monday', 'NNP')\n",
      "('that', 'IN')\n",
      "(ORGANIZATION WASHINGTON/NNP)\n",
      "('--', ':')\n",
      "('In', 'IN')\n",
      "('the', 'DT')\n",
      "('wake', 'NN')\n",
      "('of', 'IN')\n",
      "('a', 'DT')\n",
      "('string', 'NN')\n",
      "('of', 'IN')\n",
      "('abuses', 'NNS')\n",
      "('by', 'IN')\n",
      "(GPE New/NNP York/NNP)\n",
      "('police', 'NN')\n",
      "('officers', 'NNS')\n",
      "('in', 'IN')\n",
      "('the', 'DT')\n",
      "('1990s', 'CD')\n",
      "(',', ',')\n",
      "(PERSON Loretta/NNP E./NNP Lynch/NNP)\n",
      "(',', ',')\n",
      "('the', 'DT')\n",
      "('top', 'JJ')\n",
      "('federal', 'JJ')\n",
      "('prosecutor', 'NN')\n",
      "('in', 'IN')\n",
      "(GPE Brooklyn/NNP)\n",
      "(',', ',')\n",
      "('spoke', 'VBD')\n",
      "('forcefully', 'RB')\n",
      "('about', 'IN')\n",
      "('the', 'DT')\n",
      "('pain', 'NN')\n",
      "('of', 'IN')\n",
      "('a', 'DT')\n",
      "('broken', 'JJ')\n",
      "('trust', 'NN')\n",
      "('that', 'IN')\n",
      "('African-Americans', 'NNP')\n",
      "('felt', 'VBD')\n",
      "('and', 'CC')\n",
      "('said', 'VBD')\n",
      "('the', 'DT')\n",
      "('responsibility', 'NN')\n",
      "('for', 'IN')\n",
      "('repairing', 'VBG')\n",
      "('generations', 'NNS')\n",
      "('of', 'IN')\n",
      "('miscommunication', 'NN')\n",
      "('and', 'CC')\n",
      "('mistrust', 'NN')\n",
      "('fell', 'VBD')\n",
      "('to', 'TO')\n",
      "('law', 'NN')\n",
      "('enforcement', 'NN')\n"
     ]
    }
   ],
   "source": [
    "for i in ne_tree:\n",
    "    print(i)"
   ]
  },
  {
   "cell_type": "markdown",
   "id": "f0882ae2",
   "metadata": {},
   "source": [
    "Question 1"
   ]
  },
  {
   "cell_type": "code",
   "execution_count": 11,
   "id": "4e08d156",
   "metadata": {},
   "outputs": [
    {
     "name": "stdout",
     "output_type": "stream",
     "text": [
      "[Counter({'Rajkumar': 1, 'NNP': 1})]\n",
      "[Counter({'WASHINGTON': 1, 'NNP': 1})]\n",
      "[Counter({'New': 1, 'NNP': 1}), Counter({'York': 1, 'NNP': 1})]\n",
      "[Counter({'Loretta': 1, 'NNP': 1}), Counter({'E.': 1, 'NNP': 1}), Counter({'Lynch': 1, 'NNP': 1})]\n",
      "[Counter({'Brooklyn': 1, 'NNP': 1})]\n"
     ]
    }
   ],
   "source": [
    "import nltk\n",
    "from collections import Counter\n",
    "for chunk in nltk.ne_chunk(nltk.pos_tag(nltk.word_tokenize(Sentence1))):\n",
    "    if hasattr(chunk, 'label'):\n",
    "        print([Counter(label) for label in chunk])"
   ]
  },
  {
   "cell_type": "markdown",
   "id": "f1c0a473",
   "metadata": {},
   "source": [
    "Question 2"
   ]
  },
  {
   "cell_type": "code",
   "execution_count": 12,
   "id": "4fb0ac6a",
   "metadata": {},
   "outputs": [
    {
     "data": {
      "text/plain": [
       "'Rajkumar said on Monday that WASHINGTON -- In the wake of a string of abuses by New York police officers in the 1990s,Loretta E. Lynch, the top federal prosecutor in Brooklyn,spoke forcefully about the pain of a broken trust that African-Americans felt and said the responsibility for repairing generations of miscommunication and mistrust fell to law enforcement'"
      ]
     },
     "execution_count": 12,
     "metadata": {},
     "output_type": "execute_result"
    }
   ],
   "source": [
    "my_sent=Sentence1\n",
    "my_sent"
   ]
  },
  {
   "cell_type": "code",
   "execution_count": 14,
   "id": "a13963e5",
   "metadata": {},
   "outputs": [
    {
     "name": "stdout",
     "output_type": "stream",
     "text": [
      "['Rajkumar', 'WASHINGTON', 'New York', 'police officers', 'Loretta E. Lynch', 'Brooklyn']\n"
     ]
    }
   ],
   "source": [
    "my_sent= \"Rajkumar said on Monday that WASHINGTON -- In the wake of a string of abuses by New York police officers in the 1990s,Loretta E. Lynch, the top federal prosecutor in Brooklyn,spoke forcefully about the pain of a broken trust that African-Americans felt and said the responsibility for repairing generations of miscommunication and mistrust fell to law enforcement\"\n",
    "word = nltk.word_tokenize(my_sent)\n",
    "pos_tag = nltk.pos_tag(word)\n",
    "chunk = nltk.ne_chunk(pos_tag)\n",
    "grammar = \"NP: {<NN><NNS>}\"\n",
    "cp = nltk.RegexpParser(grammar)\n",
    "result = cp.parse(chunk)\n",
    "NE = [ \" \".join(w for w, t in ele) for ele in result if isinstance(ele, nltk.Tree)]\n",
    "print (NE)"
   ]
  },
  {
   "cell_type": "markdown",
   "id": "6be430c8",
   "metadata": {},
   "source": [
    "WRITE A REGULAR EXPRESSION PATTER TO DETECT THIS.YOU WILL NEED NLTK.REGEXPPARSER CLASS TO DEFINE PATTERN AND PARSE TERMS TO DETECT PATTERNS"
   ]
  },
  {
   "cell_type": "code",
   "execution_count": 15,
   "id": "a866da89",
   "metadata": {},
   "outputs": [
    {
     "name": "stdout",
     "output_type": "stream",
     "text": [
      "['Rajkumar', 'WASHINGTON', 'the wake', 'a string', 'New York', 'Loretta E. Lynch', 'the top federal prosecutor', 'Brooklyn', 'the pain', 'a broken trust', 'the responsibility']\n"
     ]
    }
   ],
   "source": [
    "grammar = \"NP: {<DT><JJ>*<NN>}\"\n",
    "cp = nltk.RegexpParser(grammar)\n",
    "result = cp.parse(chunk)\n",
    "NE = [ \" \".join(w for w, t in ele) for ele in result if isinstance(ele, nltk.Tree)]\n",
    "print (NE)"
   ]
  },
  {
   "cell_type": "markdown",
   "id": "c6ad7271",
   "metadata": {},
   "source": [
    "Question 3"
   ]
  },
  {
   "cell_type": "code",
   "execution_count": 16,
   "id": "b15637fa",
   "metadata": {},
   "outputs": [
    {
     "name": "stdout",
     "output_type": "stream",
     "text": [
      "[('Rajkumar', 'NNP'), ('said', 'VBD'), ('on', 'IN'), ('Monday', 'NNP'), ('that', 'IN'), ('WASHINGTON', 'NNP'), ('--', ':'), ('In', 'IN'), Tree('NP', [('the', 'DT'), ('wake', 'NN')]), ('of', 'IN'), Tree('NP', [('a', 'DT'), ('string', 'NN')]), ('of', 'IN'), ('abuses', 'NNS'), ('by', 'IN'), ('New', 'NNP'), ('York', 'NNP'), ('police', 'NN'), ('officers', 'NNS'), ('in', 'IN'), ('the', 'DT'), ('1990s', 'CD'), (',', ','), ('Loretta', 'NNP'), ('E.', 'NNP'), ('Lynch', 'NNP'), (',', ','), Tree('NP', [('the', 'DT'), ('top', 'JJ'), ('federal', 'JJ'), ('prosecutor', 'NN')]), ('in', 'IN'), ('Brooklyn', 'NNP'), (',', ','), ('spoke', 'VBD'), ('forcefully', 'RB'), ('about', 'IN'), Tree('NP', [('the', 'DT'), ('pain', 'NN')]), ('of', 'IN'), Tree('NP', [('a', 'DT'), ('broken', 'JJ'), ('trust', 'NN')]), ('that', 'IN'), ('African-Americans', 'NNP'), ('felt', 'VBD'), ('and', 'CC'), ('said', 'VBD'), Tree('NP', [('the', 'DT'), ('responsibility', 'NN')]), ('for', 'IN'), ('repairing', 'VBG'), ('generations', 'NNS'), ('of', 'IN'), ('miscommunication', 'NN'), ('and', 'CC'), ('mistrust', 'NN'), ('fell', 'VBD'), ('to', 'TO'), ('law', 'NN'), ('enforcement', 'NN')]\n"
     ]
    }
   ],
   "source": [
    "parse = cp.parse(tags)\n",
    "print(parse[:])"
   ]
  },
  {
   "cell_type": "markdown",
   "id": "c417674a",
   "metadata": {},
   "source": [
    "Write a regular expression pattern to detect this"
   ]
  },
  {
   "cell_type": "code",
   "execution_count": 17,
   "id": "f12862aa",
   "metadata": {},
   "outputs": [
    {
     "name": "stdout",
     "output_type": "stream",
     "text": [
      "['Rajkumar', 'WASHINGTON', 'the wake', 'a string', 'New York', 'Loretta E. Lynch', 'Brooklyn', 'the pain', 'the responsibility']\n"
     ]
    }
   ],
   "source": [
    "grammar = \"NP: {<DT><JACJ>*<NN>}\"\n",
    "cp = nltk.RegexpParser(grammar)\n",
    "result = cp.parse(chunk)\n",
    "NE = [ \" \".join(w for w, t in ele) for ele in result if isinstance(ele, nltk.Tree)]\n",
    "print (NE)"
   ]
  },
  {
   "cell_type": "code",
   "execution_count": null,
   "id": "370728ee",
   "metadata": {},
   "outputs": [],
   "source": [
    "# Exercise 2"
   ]
  },
  {
   "cell_type": "markdown",
   "id": "26046022",
   "metadata": {},
   "source": [
    "Extract All Named Entities From The Following Text:"
   ]
  },
  {
   "cell_type": "code",
   "execution_count": 18,
   "id": "1467e8c3",
   "metadata": {},
   "outputs": [],
   "source": [
    "Sentence2=\"European authorities fined Google a record S5.1 billion on Wednesday for abusing its power in the mobile phone market and ordered the company to alter its practices\""
   ]
  },
  {
   "cell_type": "markdown",
   "id": "9c2053a6",
   "metadata": {},
   "source": [
    "Question 1: Observe The Output. Does Your Code Recognize The NE Showns in Bold?"
   ]
  },
  {
   "cell_type": "code",
   "execution_count": 20,
   "id": "876d967a",
   "metadata": {},
   "outputs": [
    {
     "name": "stdout",
     "output_type": "stream",
     "text": [
      "[Tree('GPE', [('European', 'JJ')]), ('authorities', 'NNS'), ('fined', 'VBD'), Tree('PERSON', [('Google', 'NNP')]), ('a', 'DT'), ('record', 'NN'), ('S5.1', 'NNP'), ('billion', 'CD'), ('on', 'IN'), ('Wednesday', 'NNP'), ('for', 'IN'), ('abusing', 'VBG'), ('its', 'PRP$'), ('power', 'NN'), ('in', 'IN'), ('the', 'DT'), ('mobile', 'JJ'), ('phone', 'NN'), ('market', 'NN'), ('and', 'CC'), ('ordered', 'VBD'), ('the', 'DT'), ('company', 'NN'), ('to', 'TO'), ('alter', 'VB'), ('its', 'PRP$'), ('practices', 'NNS')]\n"
     ]
    }
   ],
   "source": [
    "token=word_tokenize(Sentence2)\n",
    "tag=nltk.pos_tag(token)\n",
    "ne_tree=ne_chunk(tag)\n",
    "print(ne_tree[:])"
   ]
  },
  {
   "cell_type": "markdown",
   "id": "6bef8252",
   "metadata": {},
   "source": [
    "Write a regular expression that recognizes the entity, $5.1 billion Detect and print this"
   ]
  },
  {
   "cell_type": "code",
   "execution_count": 22,
   "id": "f35a5c47",
   "metadata": {},
   "outputs": [
    {
     "name": "stdout",
     "output_type": "stream",
     "text": [
      "['European', 'Google', 'billion']\n"
     ]
    }
   ],
   "source": [
    "word = nltk.word_tokenize(Sentence2)\n",
    "pos_tag = nltk.pos_tag(word)\n",
    "chunk = nltk.ne_chunk(pos_tag)\n",
    "grammar = \"NP: {<CD>}\"\n",
    "cp = nltk.RegexpParser(grammar)\n",
    "result = cp.parse(chunk)\n",
    "NE = [ \" \".join(w for w, t in ele) for ele in result if isinstance(ele, nltk.Tree)]\n",
    "print (NE)"
   ]
  },
  {
   "cell_type": "markdown",
   "id": "ffeb35ad",
   "metadata": {},
   "source": [
    "Question 2: Write a Regular Expression that recognizes the entity,\"the mobile phone and Similar to this Entity such as \"The Company\""
   ]
  },
  {
   "cell_type": "code",
   "execution_count": 23,
   "id": "196b57f4",
   "metadata": {},
   "outputs": [
    {
     "name": "stdout",
     "output_type": "stream",
     "text": [
      "['European', 'Google', 'a record', 'the mobile phone', 'the company']\n"
     ]
    }
   ],
   "source": [
    "word = nltk.word_tokenize(Sentence2)\n",
    "pos_tag = nltk.pos_tag(word)\n",
    "chunk = nltk.ne_chunk(pos_tag)\n",
    "grammar = \"NP: {<DT><JJ>*<NN>}\"\n",
    "cp = nltk.RegexpParser(grammar)\n",
    "result = cp.parse(chunk)\n",
    "NE = [ \" \".join(w for w, t in ele) for ele in result if isinstance(ele, nltk.Tree)]\n",
    "print (NE)"
   ]
  },
  {
   "cell_type": "code",
   "execution_count": null,
   "id": "f5f38355",
   "metadata": {},
   "outputs": [],
   "source": []
  }
 ],
 "metadata": {
  "kernelspec": {
   "display_name": "Python 3 (ipykernel)",
   "language": "python",
   "name": "python3"
  },
  "language_info": {
   "codemirror_mode": {
    "name": "ipython",
    "version": 3
   },
   "file_extension": ".py",
   "mimetype": "text/x-python",
   "name": "python",
   "nbconvert_exporter": "python",
   "pygments_lexer": "ipython3",
   "version": "3.11.3"
  }
 },
 "nbformat": 4,
 "nbformat_minor": 5
}
